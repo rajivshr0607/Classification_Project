{
 "cells": [
  {
   "cell_type": "code",
   "execution_count": null,
   "metadata": {},
   "outputs": [],
   "source": [
    "models_values = []"
   ]
  },
  {
   "cell_type": "code",
   "execution_count": null,
   "metadata": {},
   "outputs": [],
   "source": [
    "report = classification_report.split(\"\\n\")[2].split(\"    \")\n",
    "rec= report[2].strip()\n",
    "geo = report[5].strip()\n",
    "models_values.append({\n",
    "    \"Model_Name\": \"LogisticRegression\",\n",
    "    \"balanced accuracy\": accuracy_score,\n",
    "    \"recall_score\": rec,\n",
    "    \"geometric_mean_score\": geo,\n",
    "})"
   ]
  },
  {
   "cell_type": "code",
   "execution_count": null,
   "metadata": {},
   "outputs": [],
   "source": [
    "report = classification_report.split(\"\\n\")[2].split(\"    \")\n",
    "rec= report[2].strip()\n",
    "geo = report[5].strip()\n",
    "models_values.append({\n",
    "    \"Model_Name\": \"SMOTE\",\n",
    "    \"balanced accuracy\": accuracy_score,\n",
    "    \"recall_score\": rec,\n",
    "    \"geometric_mean_score\": geo,\n",
    "})\n",
    "models_values"
   ]
  },
  {
   "cell_type": "code",
   "execution_count": null,
   "metadata": {},
   "outputs": [],
   "source": [
    "report = classification_report.split(\"\\n\")[2].split(\"    \")\n",
    "rec= report[2].strip()\n",
    "geo = report[5].strip()\n",
    "models_values.append({\n",
    "    \"Model_Name\": \"SMOTEENN\",\n",
    "    \"balanced accuracy\": accuracy_score,\n",
    "    \"recall_score\": rec,\n",
    "    \"geometric_mean_score\": geo,\n",
    "})\n",
    "models_values"
   ]
  },
  {
   "cell_type": "code",
   "execution_count": null,
   "metadata": {},
   "outputs": [],
   "source": [
    "model_df = pd.DataFrame(models_values)\n",
    "model_df[\"recall_score\"] = model_df[\"recall_score\"].astype(\"float\")\n",
    "model_df[\"geometric_mean_score\"] = model_df[\"geometric_mean_score\"].astype(\"float\")\n",
    "model_df"
   ]
  },
  {
   "cell_type": "code",
   "execution_count": null,
   "metadata": {},
   "outputs": [],
   "source": [
    "model_df.sort_values(\"balanced accuracy\", ascending=False).head(1).loc[:, [\"Model_Name\", \"balanced accuracy\"]]"
   ]
  }
 ],
 "metadata": {
  "kernelspec": {
   "display_name": "Python 3",
   "language": "python",
   "name": "python3"
  },
  "language_info": {
   "codemirror_mode": {
    "name": "ipython",
    "version": 3
   },
   "file_extension": ".py",
   "mimetype": "text/x-python",
   "name": "python",
   "nbconvert_exporter": "python",
   "pygments_lexer": "ipython3",
   "version": "3.8.3"
  }
 },
 "nbformat": 4,
 "nbformat_minor": 4
}
